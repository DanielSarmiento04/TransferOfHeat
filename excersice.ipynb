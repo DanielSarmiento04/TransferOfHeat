{
 "cells": [
  {
   "cell_type": "code",
   "execution_count": 69,
   "metadata": {},
   "outputs": [],
   "source": [
    "#Cargar datos de tablas\n",
    "values = dict()\n",
    "values[\"placa\"] = [], []\n",
    "values[\"cilindro\"] = [], []\n",
    "values[\"esfera\"] = [], []\n",
    "bis =[]\n",
    "f = open(\"TablasTemp.txt\", \"r\")\n",
    "for line in f:\n",
    "    if len(line) > 1 and line[0] != \"B\":\n",
    "        bi, l1, c1, l2, c2, l3, c3 = line.split('\\t')\n",
    "        bis.append(float(bi))\n",
    "        values[\"placa\"][0].append(float(l1))\n",
    "        values[\"placa\"][1].append(float(c1))\n",
    "        values[\"cilindro\"][0].append(float(l2))\n",
    "        values[\"cilindro\"][1].append(float(c2))\n",
    "        values[\"esfera\"][0].append(float(l3))\n",
    "        values[\"esfera\"][1].append(float(c3))\n",
    "f.close()"
   ]
  },
  {
   "cell_type": "code",
   "execution_count": 70,
   "metadata": {},
   "outputs": [],
   "source": [
    "f = open(\"j.txt\", \"r\")\n",
    "data = [], []\n",
    "ns = []\n",
    "for line in f:\n",
    "    if len(line) > 1 and line[0] != \"B\":\n",
    "        n, j0, j1 = line.split(' ')\n",
    "        ns.append(float(n))\n",
    "        data[0].append(float(j0))\n",
    "        data[1].append(float(j1))\n",
    "f.close()"
   ]
  },
  {
   "cell_type": "code",
   "execution_count": 71,
   "metadata": {},
   "outputs": [],
   "source": [
    "def get_j0_and_j1(n: float) -> float:\n",
    "    try:\n",
    "        index = ns.index(n)\n",
    "        return data[0][index], data[1][index] \n",
    "    except ValueError:\n",
    "        for i in range(len(ns)):\n",
    "            if ns[i] > n:\n",
    "                num = ns[i] - ns[i-1]\n",
    "                den1 = data[1][i] - data[1][i-1]\n",
    "                den2 = data[0][i] - data[0][i-1]\n",
    "                delta = ((n - ns[i-1])*den1) / num\n",
    "                delta2 = ((n - ns[i-1])*den2) / num\n",
    "                c = delta+data[1][i-1]\n",
    "                l = delta2+data[0][i-1]\n",
    "                return l, c"
   ]
  },
  {
   "cell_type": "code",
   "execution_count": 72,
   "metadata": {},
   "outputs": [
    {
     "data": {
      "text/plain": [
       "(0.72416, 0.46781)"
      ]
     },
     "execution_count": 72,
     "metadata": {},
     "output_type": "execute_result"
    }
   ],
   "source": [
    "get_j0_and_j1(1.09)"
   ]
  },
  {
   "cell_type": "code",
   "execution_count": 73,
   "metadata": {},
   "outputs": [],
   "source": [
    "# funcion que nos dara los landas a partir de la tablas, si no lo encuentra calcula el valor interpolado entre los superior e inferior\n",
    "def getCAndlanda(bi: float,tipo:str)->tuple:\n",
    "\n",
    "    # Find the index of the bi value in the bis list\n",
    "    # This is the index of the corresponding c value\n",
    "    # if the value is not in the list return the amount of upper and downer values\n",
    "    try:\n",
    "        index = bis.index(bi)\n",
    "        return values[tipo][0][index], values[tipo][1][index]\n",
    "    except ValueError:\n",
    "        for i in range(len(bis)):\n",
    "            if bis[i] > bi:\n",
    "                num = bis[i] - bis[i-1]\n",
    "                den1 = values[tipo][1][i] - values[tipo][1][i-1]\n",
    "                den2 = values[tipo][0][i] - values[tipo][0][i-1]\n",
    "                delta = ((bi - bis[i-1])*den1) / num\n",
    "                delta2 = ((bi - bis[i-1])*den2) / num\n",
    "                c = delta+values[tipo][1][i-1]\n",
    "                l = delta2+values[tipo][0][i-1]\n",
    "                return l, c\n"
   ]
  },
  {
   "cell_type": "code",
   "execution_count": 74,
   "metadata": {},
   "outputs": [],
   "source": [
    "# Datos del problema\n",
    "diametro = 10 #cm\n",
    "espesor = 7 #mm\n",
    "temperatura_horno = 180 #ºC\n",
    "temperatura_inicial = 25 # ºC\n",
    "temperatura_coccion = 98\n",
    "h = 120 #W/m^2K\n",
    "difusividad =  1.52e-7 # m^2\n",
    "Cp = 3132\n",
    "k = 0.51\n"
   ]
  },
  {
   "cell_type": "code",
   "execution_count": 75,
   "metadata": {},
   "outputs": [],
   "source": [
    "# Convertimos a unidades del SI\n",
    "espesor = espesor*1e-3\n",
    "diametro = diametro*1e-2"
   ]
  },
  {
   "cell_type": "code",
   "execution_count": 76,
   "metadata": {},
   "outputs": [
    {
     "data": {
      "text/plain": [
       "0.8235294117647058"
      ]
     },
     "execution_count": 76,
     "metadata": {},
     "output_type": "execute_result"
    }
   ],
   "source": [
    "#Para la placa \n",
    "L_car_placa = espesor/2\n",
    "Bi_placa = h*L_car_placa/k\n",
    "Bi_placa # Bi mayor que 0.1"
   ]
  },
  {
   "cell_type": "code",
   "execution_count": 77,
   "metadata": {},
   "outputs": [
    {
     "name": "stdout",
     "output_type": "stream",
     "text": [
      "0.799564705882353 1.1037411764705882\n"
     ]
    }
   ],
   "source": [
    "# Obtenemos de tablas\n",
    "lambda_placa, c_placa = getCAndlanda(Bi_placa, \"placa\")\n",
    "print(lambda_placa, c_placa )"
   ]
  },
  {
   "cell_type": "code",
   "execution_count": 78,
   "metadata": {},
   "outputs": [],
   "source": [
    "#para cilindro\n",
    "L_car_cilindro = diametro/4\n",
    "Bi_cilindro= h*L_car_cilindro/k"
   ]
  },
  {
   "cell_type": "code",
   "execution_count": 79,
   "metadata": {},
   "outputs": [
    {
     "name": "stdout",
     "output_type": "stream",
     "text": [
      "2.042035294117647 1.522664705882353\n"
     ]
    }
   ],
   "source": [
    "lambda_cilindro, c_cilindro = getCAndlanda(Bi_cilindro, \"cilindro\")\n",
    "print(lambda_cilindro, c_cilindro )"
   ]
  },
  {
   "cell_type": "code",
   "execution_count": 80,
   "metadata": {},
   "outputs": [],
   "source": [
    "import numpy as np\n",
    "from sympy import *"
   ]
  },
  {
   "cell_type": "code",
   "execution_count": 81,
   "metadata": {},
   "outputs": [
    {
     "data": {
      "text/latex": [
       "$\\displaystyle t$"
      ],
      "text/plain": [
       "t"
      ]
     },
     "execution_count": 81,
     "metadata": {},
     "output_type": "execute_result"
    }
   ],
   "source": [
    "t = symbols('t')\n",
    "t"
   ]
  },
  {
   "cell_type": "code",
   "execution_count": 82,
   "metadata": {},
   "outputs": [
    {
     "data": {
      "text/latex": [
       "$\\displaystyle 0.0124081632653061 t$"
      ],
      "text/plain": [
       "0.0124081632653061*t"
      ]
     },
     "execution_count": 82,
     "metadata": {},
     "output_type": "execute_result"
    }
   ],
   "source": [
    "fo_placa =  difusividad/pow(L_car_placa,2)*t\n",
    "fo_placa"
   ]
  },
  {
   "cell_type": "code",
   "execution_count": 83,
   "metadata": {},
   "outputs": [
    {
     "data": {
      "text/latex": [
       "$\\displaystyle 0.0002432 t$"
      ],
      "text/plain": [
       "0.0002432*t"
      ]
     },
     "execution_count": 83,
     "metadata": {},
     "output_type": "execute_result"
    }
   ],
   "source": [
    "fo_cilindro =  difusividad/pow(L_car_cilindro,2)*t\n",
    "fo_cilindro"
   ]
  },
  {
   "cell_type": "code",
   "execution_count": 84,
   "metadata": {},
   "outputs": [
    {
     "data": {
      "text/latex": [
       "$\\displaystyle 0.769328465363375 \\cdot 2.71828182845905^{- 0.00793258492013841 t}$"
      ],
      "text/plain": [
       "0.769328465363375/2.71828182845905**(0.00793258492013841*t)"
      ]
     },
     "execution_count": 84,
     "metadata": {},
     "output_type": "execute_result"
    }
   ],
   "source": [
    "parte_placa = c_placa*pow(np.exp(1),-pow(lambda_placa,2)*fo_placa)* np.cos(lambda_placa)\n",
    "\n",
    "parte_placa"
   ]
  },
  {
   "cell_type": "code",
   "execution_count": 85,
   "metadata": {},
   "outputs": [
    {
     "data": {
      "text/plain": [
       "0.19981377647058832"
      ]
     },
     "execution_count": 85,
     "metadata": {},
     "output_type": "execute_result"
    }
   ],
   "source": [
    "#get J0\n",
    "j0, j1 = get_j0_and_j1(lambda_cilindro)\n",
    "j0"
   ]
  },
  {
   "cell_type": "code",
   "execution_count": 86,
   "metadata": {},
   "outputs": [
    {
     "data": {
      "text/latex": [
       "$\\displaystyle 0.304249385180831 \\cdot 2.71828182845905^{- 0.00101412166023707 t}$"
      ],
      "text/plain": [
       "0.304249385180831/2.71828182845905**(0.00101412166023707*t)"
      ]
     },
     "execution_count": 86,
     "metadata": {},
     "output_type": "execute_result"
    }
   ],
   "source": [
    "parte_cilindro = c_cilindro*pow(np.exp(1), -pow(lambda_cilindro,2)*fo_cilindro) * j0\n",
    "parte_cilindro"
   ]
  },
  {
   "cell_type": "code",
   "execution_count": 87,
   "metadata": {},
   "outputs": [],
   "source": [
    "temperatura_coccion = 178"
   ]
  },
  {
   "cell_type": "code",
   "execution_count": 88,
   "metadata": {},
   "outputs": [
    {
     "name": "stdout",
     "output_type": "stream",
     "text": [
      "0.012903225806451613\n"
     ]
    }
   ],
   "source": [
    "temperaturas = (temperatura_coccion-temperatura_horno)/(temperatura_inicial - temperatura_horno)\n",
    "\n",
    "print(temperaturas)"
   ]
  },
  {
   "cell_type": "code",
   "execution_count": 90,
   "metadata": {},
   "outputs": [
    {
     "data": {
      "text/latex": [
       "$\\displaystyle 0.234067712588919 \\cdot 2.71828182845905^{- 0.00894670658037548 t}$"
      ],
      "text/plain": [
       "0.234067712588919/2.71828182845905**(0.00894670658037548*t)"
      ]
     },
     "execution_count": 90,
     "metadata": {},
     "output_type": "execute_result"
    }
   ],
   "source": [
    "parte_total = parte_cilindro * parte_placa\n",
    "parte_total"
   ]
  },
  {
   "cell_type": "code",
   "execution_count": 96,
   "metadata": {},
   "outputs": [],
   "source": [
    "eqt = parte_total - temperaturas"
   ]
  },
  {
   "cell_type": "code",
   "execution_count": 98,
   "metadata": {},
   "outputs": [
    {
     "ename": "KeyboardInterrupt",
     "evalue": "",
     "output_type": "error",
     "traceback": [
      "\u001b[0;31m---------------------------------------------------------------------------\u001b[0m",
      "\u001b[0;31mKeyboardInterrupt\u001b[0m                         Traceback (most recent call last)",
      "Cell \u001b[0;32mIn [98], line 2\u001b[0m\n\u001b[1;32m      1\u001b[0m \u001b[38;5;28;01mtry\u001b[39;00m:\n\u001b[0;32m----> 2\u001b[0m     \u001b[43msolve\u001b[49m\u001b[43m(\u001b[49m\u001b[43m[\u001b[49m\u001b[43meqt\u001b[49m\u001b[43m]\u001b[49m\u001b[43m,\u001b[49m\u001b[43m \u001b[49m\u001b[43m(\u001b[49m\u001b[43mt\u001b[49m\u001b[43m)\u001b[49m\u001b[43m)\u001b[49m\n\u001b[1;32m      3\u001b[0m \u001b[38;5;28;01mexcept\u001b[39;00m \u001b[38;5;167;01mException\u001b[39;00m \u001b[38;5;28;01mas\u001b[39;00m e:\n\u001b[1;32m      4\u001b[0m     \u001b[38;5;28mprint\u001b[39m(e)\n",
      "File \u001b[0;32m~/Desktop/TransferOfHeat/.venv/lib/python3.10/site-packages/sympy/solvers/solvers.py:1114\u001b[0m, in \u001b[0;36msolve\u001b[0;34m(f, *symbols, **flags)\u001b[0m\n\u001b[1;32m   1112\u001b[0m     solution \u001b[39m=\u001b[39m _solve(f[\u001b[39m0\u001b[39m], \u001b[39m*\u001b[39msymbols, \u001b[39m*\u001b[39m\u001b[39m*\u001b[39mflags)\n\u001b[1;32m   1113\u001b[0m \u001b[39melse\u001b[39;00m:\n\u001b[0;32m-> 1114\u001b[0m     solution \u001b[39m=\u001b[39m _solve_system(f, symbols, \u001b[39m*\u001b[39;49m\u001b[39m*\u001b[39;49mflags)\n\u001b[1;32m   1116\u001b[0m \u001b[39m#\u001b[39;00m\n\u001b[1;32m   1117\u001b[0m \u001b[39m# postprocessing\u001b[39;00m\n\u001b[1;32m   1118\u001b[0m \u001b[39m###########################################################################\u001b[39;00m\n\u001b[1;32m   1119\u001b[0m \u001b[39m# Restore masked-off objects\u001b[39;00m\n\u001b[1;32m   1120\u001b[0m \u001b[39mif\u001b[39;00m non_inverts:\n",
      "File \u001b[0;32m~/Desktop/TransferOfHeat/.venv/lib/python3.10/site-packages/sympy/solvers/solvers.py:1967\u001b[0m, in \u001b[0;36m_solve_system\u001b[0;34m(exprs, symbols, **flags)\u001b[0m\n\u001b[1;32m   1965\u001b[0m \u001b[39mfor\u001b[39;00m s \u001b[39min\u001b[39;00m ok_syms:\n\u001b[1;32m   1966\u001b[0m     \u001b[39mtry\u001b[39;00m:\n\u001b[0;32m-> 1967\u001b[0m         soln \u001b[39m=\u001b[39m _solve(eq2, s, \u001b[39m*\u001b[39;49m\u001b[39m*\u001b[39;49mflags)\n\u001b[1;32m   1968\u001b[0m     \u001b[39mexcept\u001b[39;00m \u001b[39mNotImplementedError\u001b[39;00m:\n\u001b[1;32m   1969\u001b[0m         \u001b[39mcontinue\u001b[39;00m\n",
      "File \u001b[0;32m~/Desktop/TransferOfHeat/.venv/lib/python3.10/site-packages/sympy/solvers/solvers.py:1510\u001b[0m, in \u001b[0;36m_solve\u001b[0;34m(f, *symbols, **flags)\u001b[0m\n\u001b[1;32m   1508\u001b[0m \u001b[39mtry\u001b[39;00m:\n\u001b[1;32m   1509\u001b[0m     \u001b[39mif\u001b[39;00m poly \u001b[39mis\u001b[39;00m \u001b[39mNone\u001b[39;00m:\n\u001b[0;32m-> 1510\u001b[0m         poly \u001b[39m=\u001b[39m Poly(f_num)\n\u001b[1;32m   1511\u001b[0m     \u001b[39mif\u001b[39;00m poly \u001b[39mis\u001b[39;00m \u001b[39mNone\u001b[39;00m:\n\u001b[1;32m   1512\u001b[0m         \u001b[39mraise\u001b[39;00m \u001b[39mValueError\u001b[39;00m(\u001b[39m'\u001b[39m\u001b[39mcould not convert \u001b[39m\u001b[39m%s\u001b[39;00m\u001b[39m to Poly\u001b[39m\u001b[39m'\u001b[39m \u001b[39m%\u001b[39m f_num)\n",
      "File \u001b[0;32m~/Desktop/TransferOfHeat/.venv/lib/python3.10/site-packages/sympy/polys/polytools.py:182\u001b[0m, in \u001b[0;36mPoly.__new__\u001b[0;34m(cls, rep, *gens, **args)\u001b[0m\n\u001b[1;32m    180\u001b[0m     \u001b[39mreturn\u001b[39;00m \u001b[39mcls\u001b[39m\u001b[39m.\u001b[39m_from_poly(rep, opt)\n\u001b[1;32m    181\u001b[0m \u001b[39melse\u001b[39;00m:\n\u001b[0;32m--> 182\u001b[0m     \u001b[39mreturn\u001b[39;00m \u001b[39mcls\u001b[39;49m\u001b[39m.\u001b[39;49m_from_expr(rep, opt)\n",
      "File \u001b[0;32m~/Desktop/TransferOfHeat/.venv/lib/python3.10/site-packages/sympy/polys/polytools.py:312\u001b[0m, in \u001b[0;36mPoly._from_expr\u001b[0;34m(cls, rep, opt)\u001b[0m\n\u001b[1;32m    310\u001b[0m \u001b[39m\"\"\"Construct a polynomial from an expression. \"\"\"\u001b[39;00m\n\u001b[1;32m    311\u001b[0m rep, opt \u001b[39m=\u001b[39m _dict_from_expr(rep, opt)\n\u001b[0;32m--> 312\u001b[0m \u001b[39mreturn\u001b[39;00m \u001b[39mcls\u001b[39;49m\u001b[39m.\u001b[39;49m_from_dict(rep, opt)\n",
      "File \u001b[0;32m~/Desktop/TransferOfHeat/.venv/lib/python3.10/site-packages/sympy/polys/polytools.py:261\u001b[0m, in \u001b[0;36mPoly._from_dict\u001b[0;34m(cls, rep, opt)\u001b[0m\n\u001b[1;32m    258\u001b[0m     \u001b[39mfor\u001b[39;00m monom, coeff \u001b[39min\u001b[39;00m rep\u001b[39m.\u001b[39mitems():\n\u001b[1;32m    259\u001b[0m         rep[monom] \u001b[39m=\u001b[39m domain\u001b[39m.\u001b[39mconvert(coeff)\n\u001b[0;32m--> 261\u001b[0m \u001b[39mreturn\u001b[39;00m \u001b[39mcls\u001b[39m\u001b[39m.\u001b[39mnew(DMP\u001b[39m.\u001b[39;49mfrom_dict(rep, level, domain), \u001b[39m*\u001b[39mgens)\n",
      "File \u001b[0;32m~/Desktop/TransferOfHeat/.venv/lib/python3.10/site-packages/sympy/polys/polyclasses.py:279\u001b[0m, in \u001b[0;36mDMP.from_dict\u001b[0;34m(cls, rep, lev, dom)\u001b[0m\n\u001b[1;32m    276\u001b[0m \u001b[39m@classmethod\u001b[39m\n\u001b[1;32m    277\u001b[0m \u001b[39mdef\u001b[39;00m \u001b[39mfrom_dict\u001b[39m(\u001b[39mcls\u001b[39m, rep, lev, dom):\n\u001b[1;32m    278\u001b[0m     \u001b[39m\"\"\"Construct and instance of ``cls`` from a ``dict`` representation. \"\"\"\u001b[39;00m\n\u001b[0;32m--> 279\u001b[0m     \u001b[39mreturn\u001b[39;00m \u001b[39mcls\u001b[39m(dmp_from_dict(rep, lev, dom), dom, lev)\n",
      "File \u001b[0;32m~/Desktop/TransferOfHeat/.venv/lib/python3.10/site-packages/sympy/polys/densebasic.py:1014\u001b[0m, in \u001b[0;36mdmp_from_dict\u001b[0;34m(f, u, K)\u001b[0m\n\u001b[1;32m   1012\u001b[0m         h\u001b[39m.\u001b[39mappend(dmp_from_dict(coeff, v, K))\n\u001b[1;32m   1013\u001b[0m     \u001b[39melse\u001b[39;00m:\n\u001b[0;32m-> 1014\u001b[0m         h\u001b[39m.\u001b[39mappend(dmp_zero(v))\n\u001b[1;32m   1016\u001b[0m \u001b[39mreturn\u001b[39;00m dmp_strip(h, u)\n",
      "File \u001b[0;32m~/Desktop/TransferOfHeat/.venv/lib/python3.10/site-packages/sympy/polys/densebasic.py:735\u001b[0m, in \u001b[0;36mdmp_zero\u001b[0;34m(u)\u001b[0m\n\u001b[1;32m    721\u001b[0m \u001b[39m\"\"\"\u001b[39;00m\n\u001b[1;32m    722\u001b[0m \u001b[39mReturn a multivariate zero.\u001b[39;00m\n\u001b[1;32m    723\u001b[0m \n\u001b[0;32m   (...)\u001b[0m\n\u001b[1;32m    731\u001b[0m \n\u001b[1;32m    732\u001b[0m \u001b[39m\"\"\"\u001b[39;00m\n\u001b[1;32m    733\u001b[0m r \u001b[39m=\u001b[39m []\n\u001b[0;32m--> 735\u001b[0m \u001b[39mfor\u001b[39;00m i \u001b[39min\u001b[39;00m \u001b[39mrange\u001b[39;49m(u):\n\u001b[1;32m    736\u001b[0m     r \u001b[39m=\u001b[39m [r]\n\u001b[1;32m    738\u001b[0m \u001b[39mreturn\u001b[39;00m r\n",
      "\u001b[0;31mKeyboardInterrupt\u001b[0m: "
     ]
    }
   ],
   "source": [
    "try:\n",
    "    solve([eqt], (t))\n",
    "except Exception as e:\n",
    "    print(e)"
   ]
  }
 ],
 "metadata": {
  "kernelspec": {
   "display_name": "Python 3.10.6 ('.venv': venv)",
   "language": "python",
   "name": "python3"
  },
  "language_info": {
   "codemirror_mode": {
    "name": "ipython",
    "version": 3
   },
   "file_extension": ".py",
   "mimetype": "text/x-python",
   "name": "python",
   "nbconvert_exporter": "python",
   "pygments_lexer": "ipython3",
   "version": "3.10.6"
  },
  "orig_nbformat": 4,
  "vscode": {
   "interpreter": {
    "hash": "77b7db1944237d4b1d85089670e1f0d7bd90678ad313558ca147c4657ad41d25"
   }
  }
 },
 "nbformat": 4,
 "nbformat_minor": 2
}
